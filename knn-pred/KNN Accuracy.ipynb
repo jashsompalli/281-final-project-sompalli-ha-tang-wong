{
 "cells": [
  {
   "cell_type": "code",
   "execution_count": 10,
   "id": "357c4863",
   "metadata": {},
   "outputs": [],
   "source": [
    "import pandas as pd\n",
    "import numpy as np"
   ]
  },
  {
   "cell_type": "code",
   "execution_count": 3,
   "id": "c0fcd7b2",
   "metadata": {},
   "outputs": [],
   "source": [
    "df = pd.read_csv('knn_cosine_similarity_predictions_two.csv')"
   ]
  },
  {
   "cell_type": "code",
   "execution_count": 14,
   "id": "25971820",
   "metadata": {},
   "outputs": [],
   "source": [
    "df['match'] = np.where(df['class']==df['predicted'], 1, 0)\n"
   ]
  },
  {
   "cell_type": "code",
   "execution_count": 25,
   "id": "b4740ee2",
   "metadata": {},
   "outputs": [
    {
     "name": "stdout",
     "output_type": "stream",
     "text": [
      "Correct predictions:  415\n"
     ]
    }
   ],
   "source": [
    "correct = df['match'].sum()\n",
    "print('Correct predictions: ', correct)\n"
   ]
  },
  {
   "cell_type": "code",
   "execution_count": 26,
   "id": "c75fbc65",
   "metadata": {},
   "outputs": [
    {
     "name": "stdout",
     "output_type": "stream",
     "text": [
      "Wrong predictions:  2112\n"
     ]
    }
   ],
   "source": [
    "incorrect = df['match'].count()-df['match'].sum()\n",
    "print('Wrong predictions: ', incorrect)\n"
   ]
  },
  {
   "cell_type": "code",
   "execution_count": 27,
   "id": "732fd464",
   "metadata": {},
   "outputs": [
    {
     "name": "stdout",
     "output_type": "stream",
     "text": [
      "Accuracy:  0.16422635536208943\n"
     ]
    }
   ],
   "source": [
    "print(\"Accuracy: \", correct/(incorrect+correct))"
   ]
  },
  {
   "cell_type": "code",
   "execution_count": null,
   "id": "42d2aee6",
   "metadata": {},
   "outputs": [],
   "source": []
  }
 ],
 "metadata": {
  "kernelspec": {
   "display_name": "Python 3 (ipykernel)",
   "language": "python",
   "name": "python3"
  },
  "language_info": {
   "codemirror_mode": {
    "name": "ipython",
    "version": 3
   },
   "file_extension": ".py",
   "mimetype": "text/x-python",
   "name": "python",
   "nbconvert_exporter": "python",
   "pygments_lexer": "ipython3",
   "version": "3.10.0"
  }
 },
 "nbformat": 4,
 "nbformat_minor": 5
}
